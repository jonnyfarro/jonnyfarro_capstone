{
 "cells": [
  {
   "cell_type": "markdown",
   "id": "c4b505ce-703e-4c9f-a658-c073db1c76a5",
   "metadata": {
    "jp-MarkdownHeadingCollapsed": true
   },
   "source": [
    "## Fueling Longevity: Protein's Role in Life Expectancy."
   ]
  },
  {
   "cell_type": "code",
   "execution_count": null,
   "id": "303b22aa-7581-41da-8632-334179dc12aa",
   "metadata": {},
   "outputs": [],
   "source": [
    "import pandas as pd\n",
    "import seaborn as sns\n",
    "import matplotlib.pyplot as plt\n",
    "import matplotlib as mpl\n",
    "import numpy as np\n",
    "sns.set_style(\"white\")\n",
    "from importlib import reload\n",
    "plt=reload(plt)\n"
   ]
  },
  {
   "cell_type": "markdown",
   "id": "5167a0fa-5f21-4f1a-b948-d1209ef964bc",
   "metadata": {
    "jp-MarkdownHeadingCollapsed": true
   },
   "source": [
    "# color palette"
   ]
  },
  {
   "cell_type": "code",
   "execution_count": null,
   "id": "5d509da7-1628-4798-81ce-16eb641721ea",
   "metadata": {},
   "outputs": [],
   "source": [
    "colors = sns.color_palette(palette='YlOrBr_r') \n",
    "colors_r = sns.color_palette(palette='YlOrBr') "
   ]
  },
  {
   "cell_type": "markdown",
   "id": "3d23c0a0-e0db-4f69-b234-47116116d012",
   "metadata": {
    "jp-MarkdownHeadingCollapsed": true
   },
   "source": [
    "# cleaning"
   ]
  },
  {
   "cell_type": "code",
   "execution_count": null,
   "id": "bc0f753f-d934-44ee-a9ed-9f2623292d12",
   "metadata": {},
   "outputs": [],
   "source": [
    "protein_one = pd.read_csv('/Users/jonathanfarro/Desktop/animal-protein-consumption.csv')\n",
    "\n",
    "life_ex = pd.read_csv('/Users/jonathanfarro/Desktop/ Capstone Files/life-expectancy-hmd-unwpp.csv')\n",
    "\n",
    "usa_pricing = pd.read_csv('/Users/jonathanfarro/Desktop/ Capstone Files/average_prices_for_food.csv')\n",
    "\n",
    "daily_cals = pd.read_csv('/Users/jonathanfarro/Desktop/ Capstone Files/daily-caloric-supply-derived-from-carbohydrates-protein-and-fat.csv')\n",
    "\n",
    "fruit_per_cap = pd.read_csv('/Users/jonathanfarro/Desktop/ Capstone Files/fruit-consumption-per-capita.csv')\n",
    "\n",
    "veg_per_cap = pd.read_csv('/Users/jonathanfarro/Desktop/ Capstone Files/vegetable-consumption-per-capita/vegetable-consumption-per-capita.csv' )\n",
    "\n",
    "protein_per_GDP = pd.read_csv('/Users/jonathanfarro/Desktop/ Capstone Files/daily-per-capita-protein-supply-vs-gdp-per-capita.csv')\n",
    "\n",
    "\n",
    "fruit = fruit_per_cap.rename(columns={ fruit_per_cap.columns[3]:'fruit_kilo_per_cap_per_year'})\n",
    "fruit['fruit_grams_per_day']=fruit.iloc[:,3] * 1000/ 365 \n",
    "fruit = fruit.drop(columns=['fruit_kilo_per_cap_per_year'])"
   ]
  },
  {
   "cell_type": "code",
   "execution_count": null,
   "id": "18097ea6-d793-43a6-8d0e-0b2d1a71b980",
   "metadata": {},
   "outputs": [],
   "source": [
    "# rename columns to something easier to work with \n",
    "\n",
    "protein = protein_one.rename(columns={\n",
    "                        protein_one.columns[3]:'fish',\n",
    "                        protein_one.columns[4]:'poultry',\n",
    "                        protein_one.columns[5]:'pork',\n",
    "                        protein_one.columns[6]:'beef',\n",
    "                        protein_one.columns[7]:'sheep/goat',\n",
    "                        protein_one.columns[8]:'other',\n",
    "                        protein_one.columns[9]:'eggs',\n",
    "                        protein_one.columns[10]:'milk'\n",
    "                       })"
   ]
  },
  {
   "cell_type": "code",
   "execution_count": null,
   "id": "18bf12b4-59fd-443a-822b-a70219c8dfcf",
   "metadata": {},
   "outputs": [],
   "source": [
    "# bulk clean up \n",
    "protein = protein.rename(columns=lambda x: x.lower())\n",
    "protein = protein.map(lambda x: x.lower() if isinstance(x, str) else x).reset_index(drop=True)\n",
    "\n",
    "life_ex = life_ex.rename(columns = lambda x: x.lower())\n",
    "life_ex = life_ex.map(lambda x:x.lower() if isinstance(x,str) else x).reset_index(drop = True)\n",
    "life_ex = life_ex.rename(columns = {life_ex.columns[3] : 'life_expectancy(0)'})\n",
    "\n",
    "protein_per_GDP = protein_per_GDP.rename(columns = lambda x: x.lower())\n",
    "protein_per_GDP = protein_per_GDP.map(lambda x:x.lower() if isinstance(x,str) else x).reset_index(drop = True)\n",
    "gdp_population = protein_per_GDP.drop(columns= {protein_per_GDP.columns[3],protein_per_GDP.columns[6]})\n",
    "gdp_population = gdp_population.rename(columns = { gdp_population.columns[3]: 'gdp_per_capita'}) \n",
    "\n",
    "\n",
    "daily_cals = daily_cals.rename(columns = lambda x: x.lower())\n",
    "daily_cals = daily_cals.map(lambda x:x.lower() if isinstance(x,str) else x).reset_index(drop = True)\n",
    "\n",
    "\n",
    "fruit = fruit.rename(columns=lambda x: x.lower())\n",
    "fruit = fruit.map(lambda x: x.lower() if isinstance(x, str) else x).reset_index(drop=True)\n",
    "\n",
    "\n",
    "# creating a new column to show total_protein intake for a day.\n",
    "protein['total_protein'] = protein.iloc[:, 3:11].sum(axis = 1).round(2)\n",
    "\n"
   ]
  },
  {
   "cell_type": "code",
   "execution_count": null,
   "id": "33c8055e-3b80-44e6-9d0b-91fc095b6964",
   "metadata": {},
   "outputs": [],
   "source": [
    "capstone = pd.merge(protein,\n",
    "         life_ex,\n",
    "         on= ['entity','code','year'],\n",
    "         how= 'inner')\n",
    "\n",
    "#capstone.head()\n",
    "\n",
    "capstone_2 = pd.merge( capstone, gdp_population, on = ['entity','code','year'],how= 'inner')\n",
    "\n",
    "main_frame = pd.merge(capstone_2,daily_cals,  on = ['entity','code','year'],how= 'outer')\n",
    "\n",
    "\n",
    "\n",
    "final_frame = main_frame.rename(columns= { 'daily calorie supply per person that comes from animal protein':'daily_cal_animal_protein',\n",
    "                                            'daily calorie supply per person that comes from vegetal protein':'daily_cal_veg_protein',\n",
    "                                            'daily calorie supply per person from fat':'daily_cal_fat',\n",
    "                                            'daily calorie supply per person from carbohydrates':'daily_cal_carbs'})\n",
    "final_frame.head()\n",
    "\n",
    "final_frame.entity.unique()"
   ]
  },
  {
   "cell_type": "code",
   "execution_count": null,
   "id": "381dcb12-0419-46c3-8ba7-b2a34e0dab8e",
   "metadata": {},
   "outputs": [],
   "source": [
    "#creating an all_cause_mortality column, and more cleaning\n",
    "\n",
    "\n",
    "\n",
    "final_frame = final_frame[~final_frame['entity'].str.contains(r'\\(.*\\)')]\n",
    "\n",
    "final = final_frame\n",
    "final = final.rename(columns={'life_expectancy(0)':'life_exp','population (historical)':'population'})\n",
    "final"
   ]
  },
  {
   "cell_type": "code",
   "execution_count": null,
   "id": "898ac56a-a776-4699-8dd3-d8efccd835fd",
   "metadata": {
    "scrolled": true
   },
   "outputs": [],
   "source": [
    "#further cleaning.\n",
    "\n",
    "non_countries_list = ['asia','europe','high-income countries','low-income countries','lower-middle-income countries','oceania','upper-middle-income countries','world']\n",
    "income_classes= ['low-income countries','high-income countries','lower-middle-income countries','upper-middle-income countries','world']\n",
    "\n",
    "final_countries = final.loc[~final['entity'].isin(non_countries_list)]\n",
    "\n",
    "income_class = final.loc[final['entity'].isin(income_classes)]\n",
    "\n",
    "income_class['total_daily_protein_g'] = income_class['daily_cal_veg_protein']/4 + income_class['daily_cal_animal_protein']/4\n",
    "income_class['total_animal_protein_g']= income_class['daily_cal_animal_protein'].round() / 4\n",
    "income_class['total_veg_protein_g']= income_class['daily_cal_veg_protein'].round() / 4\n",
    "income_class = income_class.loc[income_class['entity']!= 'world']\n",
    "\n",
    "\n",
    "\n",
    "\n",
    "income_class.reset_index()\n"
   ]
  },
  {
   "cell_type": "code",
   "execution_count": null,
   "id": "f05f48c8-2e32-477f-bebf-dd99acea0186",
   "metadata": {},
   "outputs": [],
   "source": [
    "testdrop= final_countries\n",
    "\n",
    "df = testdrop.dropna()\n",
    "\n",
    "df['daily_caloric_intake'] = df.iloc[:,15:19].sum(axis=1)\n",
    "df['non_protein_cals']= df['daily_cal_fat'] + df['daily_cal_carbs'] \n",
    "income_class['daily_caloric_intake'] = income_class.iloc[:,15:19].sum(axis=1)\n",
    "\n",
    "\n",
    "\n",
    "df = pd.merge(df,\n",
    "         fruit,\n",
    "         on= ['entity','code','year'],\n",
    "         how= 'inner')\n",
    "\n",
    "df['decade'] = (df['year'] // 10) * 10\n",
    "\n",
    "df['total_daily_protein_g'] = df['daily_cal_veg_protein']/4 + df['daily_cal_animal_protein']/4\n",
    "df"
   ]
  },
  {
   "cell_type": "code",
   "execution_count": null,
   "id": "2fdc6b26-068e-49aa-a8f3-3da0125d128f",
   "metadata": {},
   "outputs": [],
   "source": [
    "country_to_region = {\n",
    "    'algeria': 'Africa',\n",
    "    'angola': 'Africa',\n",
    "    'benin': 'Africa',\n",
    "    'botswana': 'Africa',\n",
    "    'burkina faso': 'Africa',\n",
    "    'burundi': 'Africa',\n",
    "    'cabo verde': 'Africa',\n",
    "    'cameroon': 'Africa',\n",
    "    'central african republic': 'Africa',\n",
    "    'chad': 'Africa',\n",
    "    'comoros': 'Africa',\n",
    "    'congo, democratic republic of the': 'Africa',\n",
    "    'congo, republic of the': 'Africa',\n",
    "    \"côte d'ivoire\": 'Africa',\n",
    "    'djibouti': 'Africa',\n",
    "    'egypt': 'Africa',\n",
    "    'equatorial guinea': 'Africa',\n",
    "    'eritrea': 'Africa',\n",
    "    'eswatini': 'Africa',\n",
    "    'ethiopia': 'Africa',\n",
    "    'gabon': 'Africa',\n",
    "    'gambia': 'Africa',\n",
    "    'ghana': 'Africa',\n",
    "    'guinea': 'Africa',\n",
    "    'guinea-bissau': 'Africa',\n",
    "    'kenya': 'Africa',\n",
    "    'lesotho': 'Africa',\n",
    "    'liberia': 'Africa',\n",
    "    'libya': 'Africa',\n",
    "    'madagascar': 'Africa',\n",
    "    'malawi': 'Africa',\n",
    "    'mali': 'Africa',\n",
    "    'mauritania': 'Africa',\n",
    "    'mauritius': 'Africa',\n",
    "    'morocco': 'Africa',\n",
    "    'mozambique': 'Africa',\n",
    "    'namibia': 'Africa',\n",
    "    'niger': 'Africa',\n",
    "    'nigeria': 'Africa',\n",
    "    'rwanda': 'Africa',\n",
    "    'sao tome and principe': 'Africa',\n",
    "    'senegal': 'Africa',\n",
    "    'seychelles': 'Africa',\n",
    "    'sierra leone': 'Africa',\n",
    "    'somalia': 'Africa',\n",
    "    'south africa': 'Africa',\n",
    "    'south sudan': 'Africa',\n",
    "    'sudan': 'Africa',\n",
    "    'tanzania': 'Africa',\n",
    "    'togo': 'Africa',\n",
    "    'tunisia': 'Africa',\n",
    "    'uganda': 'Africa',\n",
    "    'zambia': 'Africa',\n",
    "    'zimbabwe': 'Africa',\n",
    "    'afghanistan': 'Asia',\n",
    "    'armenia': 'Asia',\n",
    "    'azerbaijan': 'Asia',\n",
    "    'bahrain': 'Asia',\n",
    "    'bangladesh': 'Asia',\n",
    "    'bhutan': 'Asia',\n",
    "    'brunei': 'Asia',\n",
    "    'cambodia': 'Asia',\n",
    "    'china': 'Asia',\n",
    "    'cyprus': 'Asia', \n",
    "    'georgia': 'Asia',\n",
    "    'india': 'Asia',\n",
    "    'indonesia': 'Asia',\n",
    "    'iran': 'Asia',\n",
    "    'iraq': 'Asia',\n",
    "    'israel': 'Asia',\n",
    "    'japan': 'Asia',\n",
    "    'jordan': 'Asia',\n",
    "    'kazakhstan': 'Asia',\n",
    "    'kuwait': 'Asia',\n",
    "    'kyrgyzstan': 'Asia',\n",
    "    'laos': 'Asia',\n",
    "    'lebanon': 'Asia',\n",
    "    'malaysia': 'Asia',\n",
    "    'maldives': 'Asia',\n",
    "    'mongolia': 'Asia',\n",
    "    'myanmar': 'Asia',\n",
    "    'nepal': 'Asia',\n",
    "    'north korea': 'Asia',\n",
    "    'oman': 'Asia',\n",
    "    'pakistan': 'Asia',\n",
    "    'palestine': 'Asia',\n",
    "    'philippines': 'Asia',\n",
    "    'qatar': 'Asia',\n",
    "    'russia': 'Asia', # Mostly in Asia\n",
    "    'saudi arabia': 'Asia',\n",
    "    'singapore': 'Asia',\n",
    "    'south korea': 'Asia',\n",
    "    'sri lanka': 'Asia',\n",
    "    'syria': 'Asia',\n",
    "    'tajikistan': 'Asia',\n",
    "    'thailand': 'Asia',\n",
    "    'timor-leste': 'Asia',\n",
    "    'turkey': 'Asia', # Mostly in Asia\n",
    "    'turkmenistan': 'Asia',\n",
    "    'united arab emirates': 'Asia',\n",
    "    'uzbekistan': 'Asia',\n",
    "    'vietnam': 'Asia',\n",
    "    'yemen': 'Asia',\n",
    "    'macao':'Asia',\n",
    "    'albania': 'Europe',\n",
    "    'andorra': 'Europe',\n",
    "    'austria': 'Europe',\n",
    "    'belarus': 'Europe',\n",
    "    'belgium': 'Europe',\n",
    "    'bosnia and herzegovina': 'Europe',\n",
    "    'bulgaria': 'Europe',\n",
    "    'croatia': 'Europe',\n",
    "    'czech republic': 'Europe',\n",
    "    'denmark': 'Europe',\n",
    "    'estonia': 'Europe',\n",
    "    'finland': 'Europe',\n",
    "    'france': 'Europe',\n",
    "    'germany': 'Europe',\n",
    "    'greece': 'Europe',\n",
    "    'hungary': 'Europe',\n",
    "    'iceland': 'Europe',\n",
    "    'ireland': 'Europe',\n",
    "    'italy': 'Europe',\n",
    "    'kosovo': 'Europe',\n",
    "    'latvia': 'Europe',\n",
    "    'liechtenstein': 'Europe',\n",
    "    'lithuania': 'Europe',\n",
    "    'luxembourg': 'Europe',\n",
    "    'malta': 'Europe',\n",
    "    'moldova': 'Europe',\n",
    "    'monaco': 'Europe',\n",
    "    'montenegro': 'Europe',\n",
    "    'netherlands': 'Europe',\n",
    "    'north macedonia': 'Europe',\n",
    "    'norway': 'Europe',\n",
    "    'poland': 'Europe',\n",
    "    'portugal': 'Europe',\n",
    "    'romania': 'Europe',\n",
    "    'russia': 'Europe', \n",
    "    'san marino': 'Europe',\n",
    "    'serbia': 'Europe',\n",
    "    'slovakia': 'Europe',\n",
    "    'slovenia': 'Europe',\n",
    "    'spain': 'Europe',\n",
    "    'sweden': 'Europe',\n",
    "    'switzerland': 'Europe',\n",
    "    'ukraine': 'Europe',\n",
    "    'united kingdom': 'Europe',\n",
    "    'vatican city': 'Europe', \n",
    "    'antigua and barbuda': 'North America',\n",
    "    'bahamas': 'North America',\n",
    "    'barbados': 'North America',\n",
    "    'belize': 'North America',\n",
    "    'canada': 'North America',\n",
    "    'costa rica': 'North America',\n",
    "    'cuba': 'North America',\n",
    "    'dominica': 'North America',\n",
    "    'dominican republic': 'North America',\n",
    "    'el salvador': 'North America',\n",
    "    'grenada': 'North America',\n",
    "    'guatemala': 'North America',\n",
    "    'haiti': 'North America',\n",
    "    'honduras': 'North America',\n",
    "    'jamaica': 'North America',\n",
    "    'mexico': 'North America',\n",
    "    'nicaragua': 'North America',\n",
    "    'panama': 'North America',\n",
    "    'saint kitts and nevis': 'North America',\n",
    "    'saint lucia': 'North America',\n",
    "    'saint vincent and the grenadines': 'North America',\n",
    "    'trinidad and tobago': 'North America',\n",
    "    'united states': 'North America',\n",
    "    'australia': 'Oceania',\n",
    "    'fiji': 'Oceania',\n",
    "    'kiribati': 'Oceania',\n",
    "    'marshall islands': 'Oceania',\n",
    "    'micronesia': 'Oceania',\n",
    "    'nauru': 'Oceania',\n",
    "    'new zealand': 'Oceania',\n",
    "    'palau': 'Oceania',\n",
    "    'papua new guinea': 'Oceania',\n",
    "    'samoa': 'Oceania',\n",
    "    'solomon islands': 'Oceania',\n",
    "    'tonga': 'Oceania',\n",
    "    'tuvalu': 'Oceania',\n",
    "    'vanuatu': 'Oceania',\n",
    "    'argentina': 'South America',\n",
    "    'bolivia': 'South America',\n",
    "    'brazil': 'South America',\n",
    "    'chile': 'South America',\n",
    "    'colombia': 'South America',\n",
    "    'ecuador': 'South America',\n",
    "    'guyana': 'South America',\n",
    "    'paraguay': 'South America',\n",
    "    'peru': 'South America',\n",
    "    'suriname': 'South America',\n",
    "    'uruguay': 'South America',\n",
    "    'venezuela': 'South America',\n",
    "}\n",
    "\n",
    "df['region'] = df['entity'].map(country_to_region)\n",
    "\n",
    "df['entity'] = df['entity'].str.title()"
   ]
  },
  {
   "cell_type": "code",
   "execution_count": null,
   "id": "c6855059-712f-4996-9215-69edbfb1d719",
   "metadata": {},
   "outputs": [],
   "source": [
    "#df = df.drop(columns =['total_daily_protein','cals_from_protein','total_protein'])\n",
    "\n",
    "df['total_daily_protein_g'] = df['daily_cal_veg_protein']/4 + df['daily_cal_animal_protein']/4\n",
    "df['total_veg_protein_g'] = df['daily_cal_veg_protein']/4 \n",
    "df['total_animal_protein_g'] = df['daily_cal_animal_protein']/4\n",
    "df['total_daily_fat_g'] = df.daily_cal_fat/9 \n",
    "df['total_daily_carbs_g']= df.daily_cal_carbs/ 4\n",
    "df"
   ]
  },
  {
   "cell_type": "markdown",
   "id": "2da32422-e156-4c89-8c99-980fcc1acc82",
   "metadata": {
    "jp-MarkdownHeadingCollapsed": true
   },
   "source": [
    "# correlation chart"
   ]
  },
  {
   "cell_type": "code",
   "execution_count": null,
   "id": "3a546154-0062-4746-9875-ee91ab4048f2",
   "metadata": {},
   "outputs": [],
   "source": [
    "df.columns"
   ]
  },
  {
   "cell_type": "code",
   "execution_count": null,
   "id": "1501772b-6c15-47a6-892f-11590f591a64",
   "metadata": {},
   "outputs": [],
   "source": [
    "df.iloc[:,9:19].corr()"
   ]
  },
  {
   "cell_type": "code",
   "execution_count": null,
   "id": "9b50c5b2-46d1-4e89-961e-f4124320b820",
   "metadata": {},
   "outputs": [],
   "source": [
    "\n",
    "\n",
    "# Calculate the correlation matrix\n",
    "corr = df.iloc[:,9:19].corr()\n",
    "corr\n",
    "\n",
    "rs = np.random.RandomState(0)\n",
    "\n",
    "corr.style.background_gradient(cmap='copper_r')\n",
    "plt.figure(figsize=(20, 10))  # Adjust figure size as needed\n",
    "sns.heatmap(corr, annot=True, cmap='copper', fmt=\".2f\")\n",
    "plt.title('Correlation Matrix')\n"
   ]
  },
  {
   "cell_type": "code",
   "execution_count": null,
   "id": "20a1a8b7-a8e8-465f-b364-b4860bd7a2c2",
   "metadata": {},
   "outputs": [],
   "source": [
    "include = df.columns[3:11].to_list() + df.columns[12:14].to_list()\n",
    "\n",
    "\n",
    "df[include].corr()"
   ]
  },
  {
   "cell_type": "code",
   "execution_count": null,
   "id": "f4d25e37-8b0a-47a1-83c5-44ffb6621226",
   "metadata": {},
   "outputs": [],
   "source": [
    "df.fruit_grams_per_day = df.fruit_grams_per_day.round()"
   ]
  },
  {
   "cell_type": "markdown",
   "id": "5364d93d-a312-4e27-a047-9ac485d0dc18",
   "metadata": {
    "jp-MarkdownHeadingCollapsed": true
   },
   "source": [
    "# EDA "
   ]
  },
  {
   "cell_type": "code",
   "execution_count": null,
   "id": "f2d8c699-e4b1-45e0-af2c-7b008dad9681",
   "metadata": {},
   "outputs": [],
   "source": [
    "df.year.sort_values().unique()"
   ]
  },
  {
   "cell_type": "code",
   "execution_count": null,
   "id": "7da67374-5118-45ae-bf92-49f21d60e19f",
   "metadata": {},
   "outputs": [],
   "source": [
    "df.shape"
   ]
  },
  {
   "cell_type": "code",
   "execution_count": null,
   "id": "d7724a96-d517-49ef-a8d5-e2ebba628a4b",
   "metadata": {},
   "outputs": [],
   "source": [
    "df.life_exp.mean()"
   ]
  },
  {
   "cell_type": "code",
   "execution_count": null,
   "id": "2cf38a8d-acfc-414e-a8da-486b0082dabb",
   "metadata": {},
   "outputs": [],
   "source": [
    "df.describe()"
   ]
  },
  {
   "cell_type": "code",
   "execution_count": null,
   "id": "266de006-e687-49fe-9d45-cafd76adfcc8",
   "metadata": {},
   "outputs": [],
   "source": [
    "df.life_exp.mean().round()\n",
    "print(f'The average life expectancy covered in this dataset is {df.life_exp.mean().round()} years old,')\n"
   ]
  },
  {
   "cell_type": "markdown",
   "id": "8847b845-f568-4fdf-bc15-540a63b1d4b8",
   "metadata": {
    "jp-MarkdownHeadingCollapsed": true
   },
   "source": [
    "#  What is the correlation between the consumption of food types per capita and life expectancy across different countries, and how has this correlation changed over time? \n"
   ]
  },
  {
   "cell_type": "markdown",
   "id": "e8cfb1d5-4212-4242-963f-7efd3acc43e8",
   "metadata": {
    "jp-MarkdownHeadingCollapsed": true
   },
   "source": [
    "# a function to find percentage of countries with above average life expectancy and how much daily protein they eat on average."
   ]
  },
  {
   "cell_type": "code",
   "execution_count": null,
   "id": "cc9c46f2-a7e6-4bc9-8aea-9d5a4a5531a0",
   "metadata": {
    "scrolled": true
   },
   "outputs": [],
   "source": [
    "def analyze_above_average_life_exp(df):\n",
    "\n",
    "\n",
    "  \n",
    "  average_life_exp = 80\n",
    "\n",
    "  # Filter \n",
    "  above_average_df = df[df['life_exp'] > average_life_exp]\n",
    "\n",
    "  # Get unique \n",
    "  above_average_entities = above_average_df['entity'].unique()\n",
    "\n",
    "  # Calculate the percentage of entities with above-average life expectancy\n",
    "  percentage_above_average = (len(above_average_entities) / len(df['entity'].unique())) * 100\n",
    "\n",
    "  # Calculate the average total daily protein consumption for those entities\n",
    "  average_protein_consumption = above_average_df['total_daily_protein_g'].mean()\n",
    "\n",
    "  return percentage_above_average, average_protein_consumption\n",
    "\n",
    "\n",
    "# Analyze the full DataFrame\n",
    "percentage, avg_protein = analyze_above_average_life_exp(df)\n",
    "\n"
   ]
  },
  {
   "cell_type": "markdown",
   "id": "98f17080-53f5-46a9-b69a-a1db53710da3",
   "metadata": {
    "jp-MarkdownHeadingCollapsed": true
   },
   "source": [
    "# Answer to above"
   ]
  },
  {
   "cell_type": "code",
   "execution_count": null,
   "id": "6281c342-07f6-4243-bd10-489cd94e6057",
   "metadata": {},
   "outputs": [],
   "source": [
    "print(f\"Percentage of countries with above-average life expectancy: {percentage:.2f}%\")\n",
    "print(f\"Average total daily protein consumption for those entities: {avg_protein:.2f} grams\")"
   ]
  },
  {
   "cell_type": "code",
   "execution_count": null,
   "id": "d0ba526d-396f-437b-b3a7-24db9651e161",
   "metadata": {},
   "outputs": [],
   "source": [
    "plt.figure(figsize=(10, 5))\n",
    "\n",
    "sns.set_style(\"white\", {\"grid.color\": \".6\", \"grid.linestyle\": \":\"})\n",
    "sns.scatterplot(data=df, x=\"total_daily_protein_g\", y=\"life_exp\",marker=\"o\",hue='region',s=70,palette=colors)\n",
    "\n",
    "\n",
    "plt.xlabel(\"Total Daily Protein Consumption Per Capita (Grams) \",fontweight='bold')\n",
    "plt.ylabel('Life Expectancy (Years)',fontweight='bold')\n",
    "plt.tight_layout()\n",
    "#plt.savefig('yolo.png',transparent=True)\n"
   ]
  },
  {
   "cell_type": "code",
   "execution_count": null,
   "id": "10f86d0f-23a6-440f-8587-9db7d6d42d76",
   "metadata": {},
   "outputs": [],
   "source": [
    "asia = df.loc[df.region== \"Asia\"]\n",
    "europe = df.loc[df.region== \"Europe\"]\n",
    "africa = df.loc[df.region== \"Africa\"]\n",
    "northamerica = df.loc[df.region== \"North America\"]\n",
    "southamerica = df.loc[df.region== \"South America\"]\n",
    "oceania= df.loc[df.region== \"Oceania\"]\n",
    "\n",
    "\n",
    "asia         = asia.groupby('region').agg({'life_exp':'mean'}).reset_index().round()\n",
    "europe       = europe.groupby('region').agg({'life_exp':'mean'}).reset_index().round()\n",
    "northamerica = northamerica.groupby('region').agg({'life_exp':'mean'}).reset_index().round()\n",
    "southamerica = southamerica.groupby('region').agg({'life_exp':'mean'}).reset_index().round()\n",
    "oceania      = oceania.groupby('region').agg({'life_exp':'mean'}).reset_index().round()\n",
    "africa       = africa.groupby('region').agg({'life_exp':'mean'}).reset_index().round()\n",
    "\n",
    "northsoutham = pd.concat([northamerica,southamerica]).reset_index(drop=True)\n",
    "asiaeurope = pd.concat([asia,europe]).reset_index(drop=True)\n",
    "ocean_africa = pd.concat([oceania,africa]).reset_index().round()\n",
    "\n",
    "\n",
    "oneleft = pd.concat([northsoutham,asiaeurope]).reset_index(drop=True) \n",
    "avg_life_exp_all_regions = pd.concat([oneleft,ocean_africa]).reset_index(drop=True)"
   ]
  },
  {
   "cell_type": "code",
   "execution_count": null,
   "id": "21b2f7c7-6597-4526-9644-2591ea9b9853",
   "metadata": {},
   "outputs": [],
   "source": [
    "plt.subplots(figsize=(10, 6))\n",
    "ax = sns.barplot(avg_life_exp_all_regions.sort_values(by='life_exp'),x='region',y='life_exp',palette=colors_r,hue='region')\n",
    "\n",
    "\n",
    "for i in ax.containers:\n",
    "    ax.bar_label(i,fontsize=10,color='k',)\n",
    "    plt.xlabel('')\n",
    "    plt.xticks(fontsize= 12,fontweight='bold')\n",
    "    plt.ylabel('Life Expectancy at Birth',fontweight='bold')\n",
    "    plt.title('Average Life Expectancy Ages by Region',fontweight='bold')\n",
    "    plt.savefig('Life Averages by Region.png',transparent=True);"
   ]
  },
  {
   "cell_type": "code",
   "execution_count": null,
   "id": "fe49692d-7348-4854-b5c0-20c8852f218b",
   "metadata": {},
   "outputs": [],
   "source": [
    "pro_df_grouped"
   ]
  },
  {
   "cell_type": "code",
   "execution_count": null,
   "id": "74a3e6f2-d776-4549-9ace-90bc5b329fe1",
   "metadata": {},
   "outputs": [],
   "source": [
    "pro_df_grouped = df.groupby(['entity','decade']).agg({'total_veg_protein_g':'sum',\n",
    "                                           'total_animal_protein_g':'sum',\n",
    "                                           'life_exp':'mean'}).reset_index()\n",
    "\n",
    "\n",
    "\n",
    "# Create the 'more_meat' and 'more_veg' df's\n",
    "average_meat = pro_df_grouped[pro_df_grouped['total_animal_protein_g'] > pro_df_grouped['total_veg_protein_g']].copy()\n",
    "\n",
    "average_veg = pro_df_grouped[pro_df_grouped['total_veg_protein_g'] > pro_df_grouped['total_animal_protein_g']].copy()\n",
    "\n",
    "averages_veg = average_veg.groupby('decade').agg({'life_exp':'mean'}).astype(int).reset_index()\n",
    "averages_meat= average_meat.groupby('decade').agg({'life_exp':'mean'}).astype(int).reset_index()\n",
    "\n",
    "\n",
    "averages_meat"
   ]
  },
  {
   "cell_type": "code",
   "execution_count": null,
   "id": "6f72e5f7-cda3-4a31-95a6-c1b916b19609",
   "metadata": {},
   "outputs": [],
   "source": [
    "fig, ax = plt.subplots()  # Create figure and axes\n",
    "ax.axis('off')           # Hide the axes\n",
    "col_widths = [0.3, 0.3]  # Example: 30% for the first column, 70% for the second\n",
    "custom_labels = ['Decade Range', 'Average Life Expectancy']\n",
    "table = ax.table(cellText=averages_meat.values, \n",
    "                 colLabels=custom_labels, \n",
    "                 loc='center', \n",
    "                 cellLoc='center', \n",
    "                 colWidths=col_widths,\n",
    "                 colColours=['darkorange', 'darkorange'])\n",
    "\n",
    "               \n",
    "\n",
    "table.set_fontsize(11) \n",
    "plt.title(\" Higher Animal \\n Protein Consumption\", \n",
    "          fontsize=16, fontweight='bold', color='k',y=0.65)  \n",
    "\n",
    "#plt.savefig('meatlife_table_plot.png', dpi=300, bbox_inches='tight', transparent=True);\n",
    "\n"
   ]
  },
  {
   "cell_type": "code",
   "execution_count": null,
   "id": "e949af09-44de-409a-b451-95433cb91e30",
   "metadata": {},
   "outputs": [],
   "source": [
    "fig, ax = plt.subplots()  # Create figure and axes\n",
    "ax.axis('off')           # Hide the axes\n",
    "col_widths = [0.3, 0.3]  # Example: 30% for the first column, 70% for the second\n",
    "custom_labels = ['Decade Range', 'Average Life Expectancy']\n",
    "table = ax.table(cellText=averages_veg.values.round().astype('int'), \n",
    "                 colLabels=custom_labels, \n",
    "                 loc='center', \n",
    "                 cellLoc='center', \n",
    "                 colWidths=col_widths,\n",
    "                 colColours=['lightgreen', 'lightgreen'])\n",
    "\n",
    "               \n",
    "\n",
    "table.set_fontsize(11) \n",
    "plt.title(\"Higher Vegetebale \\n Protein Consumption \", \n",
    "          fontsize=16, fontweight='bold', color='k',y=0.65)  \n",
    "plt.savefig('veglife_table_plot.png', dpi=300, bbox_inches='tight', transparent=True);\n"
   ]
  },
  {
   "cell_type": "markdown",
   "id": "2696670e-77c9-427b-b5e7-ebac75a946d3",
   "metadata": {
    "jp-MarkdownHeadingCollapsed": true
   },
   "source": [
    "# Do countries with a higher ratio vegetables protein consumption compared to animal protein exhibit higher life expectancies, and how does this relationship vary across different regions?"
   ]
  },
  {
   "cell_type": "code",
   "execution_count": null,
   "id": "37305eaa-4e44-485b-b9d2-7909b7a96cf1",
   "metadata": {},
   "outputs": [],
   "source": [
    "more_veg"
   ]
  },
  {
   "cell_type": "code",
   "execution_count": null,
   "id": "c3a0ba56-fe24-4eac-a6e0-6a03372b7809",
   "metadata": {},
   "outputs": [],
   "source": [
    "# Group by entity and take the mean of other columns\n",
    "df_grouped = df.groupby('entity').agg({'total_daily_protein_g':'mean',\n",
    "                                       'total_veg_protein_g':'mean',\n",
    "                                       'total_animal_protein_g':'mean',\n",
    "                                       'life_exp':'mean',}).reset_index()\n",
    "\n",
    "\n",
    "# Create the 'more_meat' and 'more_veg' df's\n",
    "more_meat = df_grouped[df_grouped['total_animal_protein_g'] > df_grouped['total_veg_protein_g']].copy()\n",
    "more_veg = df_grouped[df_grouped['total_veg_protein_g'] > df_grouped['total_animal_protein_g']].copy()\n",
    "\n",
    "def calculate_above_69_percentage(df):\n",
    "    \"\"\"Calculates the percentage of entities with life expectancy above 69 within the given group.\"\"\"\n",
    "\n",
    "    # Get unique entities with life expectancy above 69\n",
    "    above_69_entities = df[df['life_exp'] > 69].index.unique()  \n",
    "\n",
    "    # Calculate the percentage \n",
    "    percentage_above_69 = (len(above_69_entities) / len(df)) * 100\n",
    "\n",
    "    return percentage_above_69\n",
    "\n",
    "# Calculate percentages for both groups\n",
    "meat_percentage = calculate_above_69_percentage(more_meat)  \n",
    "veg_percentage = calculate_above_69_percentage(more_veg) \n",
    "\n",
    "print(f\"Percentage of countries with above average life expectancy in the Higher Animal Protein Consumption group is {meat_percentage:.2f}%\")\n",
    "print(f\"Percentage of countries with above average life expectancy in the Higher Vegetable Protein group is {veg_percentage:.2f}%\") \n"
   ]
  },
  {
   "cell_type": "code",
   "execution_count": null,
   "id": "ad56fa8c-b991-4771-b7ab-741136e5aace",
   "metadata": {},
   "outputs": [],
   "source": [
    "more_meat = more_meat.loc[more_meat['total_animal_protein_g'] <= more_veg['total_veg_protein_g'].max()] \n",
    "more_meat.life_exp = more_meat.life_exp.round() \n",
    "more_veg.life_exp  =more_veg.life_exp.round() \n",
    "more_meat.life_exp = more_meat.life_exp.astype('int')\n",
    "more_veg.life_exp = more_veg.life_exp.astype('int')\n",
    "\n",
    "#  avg life exp\n",
    "more_meat.life_exp.describe() #64\n",
    "more_veg.life_exp.describe()  #75"
   ]
  },
  {
   "cell_type": "code",
   "execution_count": null,
   "id": "54a4f83f-cabb-48da-aab8-67efa95cba20",
   "metadata": {},
   "outputs": [],
   "source": [
    "more_meat['group'] = 'Higher Animal Protein Consumption'\n",
    "more_veg['group'] = 'Higher Vegetable Protein Consumption'\n",
    "combined_df = pd.concat([more_meat, more_veg])\n",
    "\n",
    " # Create the boxplot\n",
    "plt.figure(figsize=(8, 6))\n",
    "sns.boxplot(x='group', y='life_exp', data=combined_df, width=0.4,palette=[\"darkorange\",\"green\"])\n",
    "plt.title('Life Expectancy by Protein Consumption Group',fontweight='bold',fontsize=20)\n",
    "plt.ylabel('Life Expectancy in Years',fontweight='bold',fontsize=18)\n",
    "plt.xlabel('')\n",
    "\n",
    "plt.xticks(fontsize=12);\n",
    "plt.savefig('replacement_box_animal_veg.png',transparent = True) "
   ]
  },
  {
   "cell_type": "markdown",
   "id": "6c649abf-034c-4d10-b4f7-0ce4dd213424",
   "metadata": {
    "jp-MarkdownHeadingCollapsed": true
   },
   "source": [
    "# Does this correlation differ between high-income and low-income countries?"
   ]
  },
  {
   "cell_type": "code",
   "execution_count": null,
   "id": "2c6ce2e1-06fd-4ab7-b08e-ae50be64bb98",
   "metadata": {},
   "outputs": [],
   "source": [
    "from importlib import reload\n",
    "plt=reload(plt)"
   ]
  },
  {
   "cell_type": "code",
   "execution_count": null,
   "id": "e96ded94-a825-4124-81bf-31c844ffb2b5",
   "metadata": {},
   "outputs": [],
   "source": [
    "# how are these income levels made? avg gdp \n"
   ]
  },
  {
   "cell_type": "code",
   "execution_count": null,
   "id": "4c9e2788-7d53-4d10-9eac-a4eec8b71a65",
   "metadata": {
    "scrolled": true
   },
   "outputs": [],
   "source": [
    "incomebars = income_class.groupby(['entity']).agg({'life_exp':\"mean\",\n",
    "                                                   'total_animal_protein_g':'mean',\n",
    "                                                   'total_veg_protein_g':'mean',\n",
    "                                                   'total_daily_protein_g':'mean',\n",
    "                                                \n",
    "                                                   })\n",
    "incomebars = incomebars.reset_index()\n",
    "\n",
    "incomebars"
   ]
  },
  {
   "cell_type": "code",
   "execution_count": null,
   "id": "1a15be5e-5f42-43af-920c-7ab65ffdca9a",
   "metadata": {},
   "outputs": [],
   "source": [
    "\n",
    "\n",
    "# total daily protein intake in calories \n",
    "\n",
    "#income_bars.life_exp = income_bars.life_exp.astype('int64')\n",
    "#income_bars.total_daily_protein = income_bars.total_daily_protein.astype('int64')                                 \n",
    "\n",
    "incomebars.entity  = incomebars.entity.str.replace('countries','')\n",
    "incomebars.entity = incomebars.entity.str.title()\n",
    "\n",
    "\n",
    "incomebars.life_exp = incomebars.life_exp.round().astype('int')\n",
    "incomebars.entity = incomebars.entity.str.replace('-Income','')\n",
    "\n",
    "incomebars = incomebars.sort_values(by='life_exp',ascending=True)\n"
   ]
  },
  {
   "cell_type": "code",
   "execution_count": null,
   "id": "4aeb2093-9a44-4a16-af70-a3f82bb262bd",
   "metadata": {},
   "outputs": [],
   "source": [
    "high =incomebars.loc[incomebars['life_exp'] == 75]\n",
    "uppermiddle = incomebars.loc[incomebars['life_exp'] == 66]\n",
    "lowermiddle = incomebars.loc[incomebars['life_exp'] == 58]\n",
    "low= incomebars.loc[incomebars['life_exp'] == 51]\n",
    "\n",
    "#concat together\n",
    "\n",
    "income_bars = pd.concat([pd.concat([high,uppermiddle]),pd.concat([lowermiddle,low])])\n",
    "\n",
    "\n",
    "incomebars"
   ]
  },
  {
   "cell_type": "code",
   "execution_count": null,
   "id": "3295bdaf-c9e3-4d0c-8b8f-9daa69a89745",
   "metadata": {},
   "outputs": [],
   "source": [
    "\n",
    "income_class['entity']=income_class.entity.str.title()\n",
    "incomebars.entity = incomebars.entity.str.replace('Income','')\n",
    "incomebars.entity = incomebars.entity.str.replace('Countries','')\n",
    "incomebars"
   ]
  },
  {
   "cell_type": "code",
   "execution_count": null,
   "id": "172dd13b-c625-4254-b952-31b8c85a70f1",
   "metadata": {},
   "outputs": [],
   "source": [
    "\n",
    "plt.figure(figsize=(13, 8))\n",
    "\n",
    "# Assuming 'colors_r' is defined\n",
    "\n",
    "ax = sns.barplot(data=incomebars, y='life_exp', x='entity', palette=colors_r, hue='entity') \n",
    "plt.xlabel('')\n",
    "plt.ylabel('Life Expectancy (Years)', fontweight='bold',fontsize=15)\n",
    "plt.xticks(fontsize=12, fontweight='bold')\n",
    "plt.title('Average Life Expectancy Based on Income Level', fontweight='bold',fontsize=15)\n",
    "\n",
    "# Add rounded bold numbers on the bars\n",
    "for p in ax.patches:\n",
    "    ax.annotate(f\"{int(p.get_height())} Years Old\", (p.get_x() + p.get_width() / 2., p.get_height()), \n",
    "                ha='center', va='center', xytext=(0, 5), textcoords='offset points', \n",
    "                fontweight='bold',fontsize=18,color='k')  # Make the text bold\n",
    "\n",
    "plt.subplots_adjust(wspace=0.5, hspace=0.2) \n",
    "plt.savefig('avg_life_income.png',transparent=True)\n"
   ]
  },
  {
   "cell_type": "code",
   "execution_count": null,
   "id": "7eff91d1-e0d9-441f-af40-d2a1da45c06a",
   "metadata": {},
   "outputs": [],
   "source": [
    "\n",
    "incomebars_melted = pd.melt(incomebars, id_vars='entity', \n",
    "                           value_vars=['total_animal_protein_g', 'total_veg_protein_g', 'total_daily_protein_g'], \n",
    "                           var_name='protein_type', value_name='protein_amount')\n",
    "\n",
    "ax = sns.barplot(x='entity', y='protein_amount', hue='protein_type', data=incomebars_melted, \n",
    "            palette={'total_animal_protein_g': 'darkorange', 'total_veg_protein_g': 'green', 'total_daily_protein_g': 'peru'}, \n",
    "            dodge=True)  \n",
    "\n",
    "plt.xlabel('')\n",
    "plt.ylabel('Total Daily Protein Grams', fontweight='bold',fontsize=13)\n",
    "plt.title('Protein Consumption in Grams Per Day By Income Level',fontweight='bold')\n",
    "plt.xticks()\n",
    "\n",
    "# Customize the legend\n",
    "handles, labels = ax.get_legend_handles_labels()  # Get the existing handles and labels\n",
    "new_labels = ['Animal Protein', 'Vegetable Protein', 'Total Protein']  # Your new labels\n",
    "plt.legend(handles, new_labels, title='Protein Type') \n",
    "\n",
    "plt.tight_layout()\n",
    "plt.savefig('protein and income.png',transparent=True)"
   ]
  },
  {
   "cell_type": "markdown",
   "id": "cb696bcd-c876-482e-82e3-8c28617ca591",
   "metadata": {
    "jp-MarkdownHeadingCollapsed": true
   },
   "source": [
    "# What animal proteins are most popular amongst countries with above average life expectancy and below average gdp? "
   ]
  },
  {
   "cell_type": "code",
   "execution_count": null,
   "id": "c9adabd3-66ae-496f-a30b-eec932eefd43",
   "metadata": {},
   "outputs": [],
   "source": [
    "# showing limited access to goods but still getting healthy amounts of protein."
   ]
  },
  {
   "cell_type": "code",
   "execution_count": null,
   "id": "c509f447-7eda-41be-92cf-b07aa38836f7",
   "metadata": {},
   "outputs": [],
   "source": [
    "low_gdp_high_life =df.loc[(df['gdp_per_capita']< df['gdp_per_capita'].mean()) & (df['life_exp'] > df['life_exp'].mean())]"
   ]
  },
  {
   "cell_type": "code",
   "execution_count": null,
   "id": "0500cd0f-f5c2-49bf-a4a5-2448b9ffdcf9",
   "metadata": {},
   "outputs": [],
   "source": [
    "low_gdp_high_life_averages = low_gdp_high_life.groupby('decade').agg({'fish':'mean',\n",
    "                                                     'poultry':'mean',\n",
    "                                                     'pork':'mean',\n",
    "                                                     'beef':'mean',\n",
    "                                                     'eggs':'mean',\n",
    "                                                     'milk':'mean'}).astype('int').reset_index()\n",
    "\n",
    "low_gdp_high_life_averages = low_gdp_high_life_averages.rename(columns=lambda x: x.title())"
   ]
  },
  {
   "cell_type": "code",
   "execution_count": null,
   "id": "50720604-206d-4208-8f5b-5770325e0eca",
   "metadata": {},
   "outputs": [],
   "source": [
    "labels = low_gdp_high_life_averages.columns[1:]  \n",
    "sizes = low_gdp_high_life_averages.iloc[0, 1:].values \n",
    "\n",
    "# Create the pie chart\n",
    "fig, ax = plt.subplots()\n",
    "ax.pie(sizes, labels=labels, autopct='%1.1f%%', startangle=140,textprops = {'fontsize': 12},colors=colors)\n",
    "ax.axis('equal') \n",
    "\n",
    "plt.title('Animal Proteins Consumed by \\n Countries with Below Average GDP \\n  and  \\n Above Average Life Expectancy',fontsize=14 ,x=0.51,y=-.4,fontweight='bold')\n",
    "plt.savefig('meatpie.png',transparent = True)"
   ]
  },
  {
   "cell_type": "markdown",
   "id": "29fa2646-f409-471c-92b4-f135be20ef36",
   "metadata": {
    "jp-MarkdownHeadingCollapsed": true
   },
   "source": [
    "# Who's life expectancy above average and what do they eat?"
   ]
  },
  {
   "cell_type": "code",
   "execution_count": null,
   "id": "73890081-cf00-471a-9049-bb974ee0e2a1",
   "metadata": {},
   "outputs": [],
   "source": [
    "longest_living=df.loc[df['life_exp']> 70]\n",
    "longest_life = longest_living.groupby('entity').agg({'life_exp':'mean'}).sort_values(by='life_exp')\n",
    "longest_life = longest_life.reset_index()\n",
    "\n",
    "long_life_list = longest_life.entity.tolist() \n",
    "\n",
    "longest_life_countries = df.loc[df['entity'].isin(long_life_list)]\n",
    "longlife_grouped = longest_life_countries.groupby('entity').agg({'fish':'mean',\n",
    "                                                                 'poultry':'mean',\n",
    "                                                                 'pork':'mean',\n",
    "                                                                 'beef':'mean',\n",
    "                                                                 'sheep/goat':'mean',\n",
    "                                                                 'eggs':'mean',\n",
    "                                                                 'milk':'mean',\n",
    "                                                                 }).reset_index()\n",
    "\n",
    "longlife_grouped = longlife_grouped.rename(columns=lambda x: x.title())\n",
    "\n",
    "\n",
    "\n",
    "\n",
    "plt.figure(figsize=(10, 6))\n",
    "sns.boxplot(longlife_grouped.iloc[:,1:8],palette=colors_r)\n",
    "plt.xticks(fontsize=10,fontweight='bold')\n",
    "plt.ylabel('Total Daily Consumption in Grams',fontweight='bold')\n",
    "plt.xlabel('Protein Type',fontweight='bold')\n",
    "\n",
    "plt.savefig('livinglong_box.png',transparent=True);"
   ]
  },
  {
   "cell_type": "code",
   "execution_count": null,
   "id": "6147e5e5-5b1e-47b5-b240-5cea8a2bcb21",
   "metadata": {},
   "outputs": [],
   "source": [
    "labels = longlife_grouped.columns[1:]  \n",
    "sizes = longlife_grouped.iloc[0, 1:].values \n",
    "\n",
    "# Create the pie chart\n",
    "fig, ax = plt.subplots()\n",
    "ax.pie(sizes, labels=labels, autopct='%1.1f%%', startangle=140,textprops = {'fontsize': 12},colors=colors)\n",
    "ax.axis('equal') \n",
    "\n",
    "plt.title('long livers average diets',fontsize=14 ,x=0.51,y=-.4,fontweight='bold')\n",
    "plt.savefig('longlifersdiet.png',transparent=True)"
   ]
  },
  {
   "cell_type": "code",
   "execution_count": null,
   "id": "4eaac1a7-ad57-4e1d-a876-4ef9ed1251e0",
   "metadata": {},
   "outputs": [],
   "source": [
    "kong = df.loc[df['entity']=='Hong Kong']"
   ]
  },
  {
   "cell_type": "code",
   "execution_count": null,
   "id": "3bc96428-077f-4c82-9b41-caa08698dc9e",
   "metadata": {},
   "outputs": [],
   "source": [
    "kongs = kong.groupby('entity').agg({'fish':'sum',\n",
    "                            'poultry':'sum',\n",
    "                            'pork':'sum',\n",
    "                            'beef':'sum',\n",
    "                            'sheep/goat':'sum',\n",
    "                            'eggs':'sum',\n",
    "                            'milk':'sum',}).reset_index()\n",
    "\n",
    "kongs[:1]"
   ]
  },
  {
   "cell_type": "code",
   "execution_count": null,
   "id": "32e5f4e5-a3ee-4e6e-8ea4-999690c86663",
   "metadata": {},
   "outputs": [],
   "source": [
    "labels = kongs.columns[1:]  \n",
    "sizes = kongs.iloc[0, 1:].values.astype(int)\n",
    "\n",
    "# Create the pie chart\n",
    "fig, ax = plt.subplots()\n",
    "ax.pie(sizes, labels=labels, autopct='%1.1f%%', startangle=140,textprops = {'fontsize': 12},colors=colors)\n",
    "ax.axis('equal') \n",
    "\n",
    "plt.title('long livers average diets',fontsize=14 ,x=0.51,y=-.4,fontweight='bold')\n",
    "plt.savefig('hong kong max age 85.png',transparent=True)"
   ]
  },
  {
   "cell_type": "code",
   "execution_count": null,
   "id": "66224416-9edf-4365-97e9-ed3d7f847a33",
   "metadata": {},
   "outputs": [],
   "source": []
  }
 ],
 "metadata": {
  "kernelspec": {
   "display_name": "Python 3 (ipykernel)",
   "language": "python",
   "name": "python3"
  },
  "language_info": {
   "codemirror_mode": {
    "name": "ipython",
    "version": 3
   },
   "file_extension": ".py",
   "mimetype": "text/x-python",
   "name": "python",
   "nbconvert_exporter": "python",
   "pygments_lexer": "ipython3",
   "version": "3.12.4"
  }
 },
 "nbformat": 4,
 "nbformat_minor": 5
}
