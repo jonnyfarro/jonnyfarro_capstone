{
 "cells": [
  {
   "cell_type": "markdown",
   "id": "c4b505ce-703e-4c9f-a658-c073db1c76a5",
   "metadata": {
    "jp-MarkdownHeadingCollapsed": true
   },
   "source": [
    "## The Protein Puzzle: Unraveling the Complexities of Diet and Life Expectancy"
   ]
  },
  {
   "cell_type": "code",
   "execution_count": null,
   "id": "303b22aa-7581-41da-8632-334179dc12aa",
   "metadata": {},
   "outputs": [],
   "source": [
    "import pandas as pd\n",
    "import seaborn as sns\n",
    "import matplotlib.pyplot as plt\n",
    "import matplotlib as mpl\n",
    "import numpy as np\n",
    "sns.set_style(\"whitegrid\")\n",
    "from importlib import reload\n",
    "plt=reload(plt)\n"
   ]
  },
  {
   "cell_type": "code",
   "execution_count": null,
   "id": "7e587e3f-37ed-448f-b8a2-62e8447e57b1",
   "metadata": {},
   "outputs": [],
   "source": [
    "df.columns\n"
   ]
  },
  {
   "cell_type": "markdown",
   "id": "3d23c0a0-e0db-4f69-b234-47116116d012",
   "metadata": {
    "jp-MarkdownHeadingCollapsed": true
   },
   "source": [
    "# cleaning"
   ]
  },
  {
   "cell_type": "code",
   "execution_count": null,
   "id": "bc0f753f-d934-44ee-a9ed-9f2623292d12",
   "metadata": {},
   "outputs": [],
   "source": [
    "protein_one = pd.read_csv('/Users/jonathanfarro/Desktop/animal-protein-consumption.csv')\n",
    "\n",
    "life_ex = pd.read_csv('/Users/jonathanfarro/Desktop/ Capstone Files/life-expectancy-hmd-unwpp.csv')\n",
    "\n",
    "usa_pricing = pd.read_csv('/Users/jonathanfarro/Desktop/ Capstone Files/average_prices_for_food.csv')\n",
    "\n",
    "daily_cals = pd.read_csv('/Users/jonathanfarro/Desktop/ Capstone Files/daily-caloric-supply-derived-from-carbohydrates-protein-and-fat.csv')\n",
    "\n",
    "fruit_per_cap = pd.read_csv('/Users/jonathanfarro/Desktop/ Capstone Files/fruit-consumption-per-capita.csv')\n",
    "\n",
    "veg_per_cap = pd.read_csv('/Users/jonathanfarro/Desktop/ Capstone Files/vegetable-consumption-per-capita/vegetable-consumption-per-capita.csv' )\n",
    "\n",
    "nutrition =  pd.read_excel('/Users/jonathanfarro/Desktop/ Capstone Files/food_comp.xlsx')\n",
    "\n",
    "protein_per_GDP = pd.read_csv('/Users/jonathanfarro/Desktop/ Capstone Files/daily-per-capita-protein-supply-vs-gdp-per-capita.csv')\n",
    "\n",
    "death = pd.read_csv('/Users/jonathanfarro/Desktop/ Capstone Files/death-rate-by-cause-who-mdb.csv')\n",
    "\n"
   ]
  },
  {
   "cell_type": "code",
   "execution_count": null,
   "id": "18097ea6-d793-43a6-8d0e-0b2d1a71b980",
   "metadata": {},
   "outputs": [],
   "source": [
    "# rename columns to something easier to work with \n",
    "\n",
    "protein = protein_one.rename(columns={\n",
    "                        protein_one.columns[3]:'fish',\n",
    "                        protein_one.columns[4]:'poultry',\n",
    "                        protein_one.columns[5]:'pork',\n",
    "                        protein_one.columns[6]:'beef',\n",
    "                        protein_one.columns[7]:'sheep/goat',\n",
    "                        protein_one.columns[8]:'other',\n",
    "                        protein_one.columns[9]:'eggs',\n",
    "                        protein_one.columns[10]:'milk'\n",
    "                       })"
   ]
  },
  {
   "cell_type": "code",
   "execution_count": null,
   "id": "18bf12b4-59fd-443a-822b-a70219c8dfcf",
   "metadata": {},
   "outputs": [],
   "source": [
    "# bulk clean up \n",
    "protein = protein.rename(columns=lambda x: x.lower())\n",
    "protein = protein.map(lambda x: x.lower() if isinstance(x, str) else x).reset_index(drop=True)\n",
    "\n",
    "life_ex = life_ex.rename(columns = lambda x: x.lower())\n",
    "life_ex = life_ex.map(lambda x:x.lower() if isinstance(x,str) else x).reset_index(drop = True)\n",
    "life_ex = life_ex.rename(columns = {life_ex.columns[3] : 'life_expectancy(0)'})\n",
    "\n",
    "protein_per_GDP = protein_per_GDP.rename(columns = lambda x: x.lower())\n",
    "protein_per_GDP = protein_per_GDP.map(lambda x:x.lower() if isinstance(x,str) else x).reset_index(drop = True)\n",
    "gdp_population = protein_per_GDP.drop(columns= {protein_per_GDP.columns[3],protein_per_GDP.columns[6]})\n",
    "gdp_population = gdp_population.rename(columns = { gdp_population.columns[3]: 'gdp_per_capita'}) \n",
    "\n",
    "\n",
    "daily_cals = daily_cals.rename(columns = lambda x: x.lower())\n",
    "daily_cals = daily_cals.map(lambda x:x.lower() if isinstance(x,str) else x).reset_index(drop = True)\n",
    "\n",
    "death = death.rename(columns = lambda x: x.lower())\n",
    "death = death.map(lambda x:x.lower() if isinstance(x,str) else x).reset_index(drop = True)\n",
    "\n",
    "nutrition = nutrition.rename(columns = lambda x: x.lower())\n",
    "nutrition = nutrition.map(lambda x:x.lower() if isinstance(x,str) else x).reset_index(drop = True)\n",
    "\n",
    "fruit_per_cap = fruit_per_cap.rename(columns=lambda x: x.lower())\n",
    "fruit_per_cap = fruit_per_cap.map(lambda x: x.lower() if isinstance(x, str) else x).reset_index(drop=True)\n",
    "fruit = fruit_per_cap.rename(columns = {fruit_per_cap.columns[3]:'fruit_kilo_yearly'}).reset_index(drop = True)\n",
    "\n",
    "# creating a new column to show total_protein intake for a day.\n",
    "protein['total_protein'] = protein.iloc[:, 3:11].sum(axis = 1).round(2)\n",
    "\n"
   ]
  },
  {
   "cell_type": "code",
   "execution_count": null,
   "id": "33c8055e-3b80-44e6-9d0b-91fc095b6964",
   "metadata": {},
   "outputs": [],
   "source": [
    "capstone = pd.merge(protein,\n",
    "         life_ex,\n",
    "         on= ['entity','code','year'],\n",
    "         how= 'inner')\n",
    "\n",
    "#capstone.head()\n",
    "\n",
    "capstone_2 = pd.merge( capstone, gdp_population, on = ['entity','code','year'],how= 'inner')\n",
    "\n",
    "main_frame = pd.merge(capstone_2,death,  on = ['entity','code','year'],how= 'outer')\n",
    "\n",
    "final_frame = pd.merge(main_frame, daily_cals,  on = ['entity','code','year'],how= 'outer')\n",
    "\n",
    "final_frame['total_daily_protein']=final_frame.iloc[:, 3:10].sum(axis=1)\n",
    "\n",
    "final_frame = final_frame.rename(columns= { 'daily calorie supply per person that comes from animal protein':'daily_cal_animal_protein',\n",
    "                                            'daily calorie supply per person that comes from vegetal protein':'daily_cal_veg_protein',\n",
    "                                            'daily calorie supply per person from fat':'daily_cal_fat',\n",
    "                                            'daily calorie supply per person from carbohydrates':'daily_cal_carbs'})\n",
    "final_frame.entity.unique()\n",
    "\n",
    "\n"
   ]
  },
  {
   "cell_type": "code",
   "execution_count": null,
   "id": "381dcb12-0419-46c3-8ba7-b2a34e0dab8e",
   "metadata": {},
   "outputs": [],
   "source": [
    "#creating an all_cause_mortality column, and more cleaning\n",
    "\n",
    "final_frame['all_cause_per_100k'] = final_frame.iloc[:,15:24].sum(axis=1)\n",
    "\n",
    "final_frame_two = final_frame.drop(columns=final_frame.columns[15:24])\n",
    "\n",
    "final_frame_three = final_frame_two[~final_frame_two['entity'].str.contains(r'\\(.*\\)')]\n",
    "\n",
    "final = final_frame_three\n",
    "final = final.rename(columns={'life_expectancy(0)':'life_exp','population (historical)':'population'})"
   ]
  },
  {
   "cell_type": "code",
   "execution_count": null,
   "id": "898ac56a-a776-4699-8dd3-d8efccd835fd",
   "metadata": {
    "scrolled": true
   },
   "outputs": [],
   "source": [
    "#further cleaning.\n",
    "\n",
    "non_countries_list = ['asia','europe','high-income countries','low-income countries','lower-middle-income countries','oceania','upper-middle-income countries','world']\n",
    "income_classes= ['low-income countries','high-income countries','lower-middle-income countries','upper-middle-income countries','world']\n",
    "\n",
    "final_countries = final.loc[~final['entity'].isin(non_countries_list)]\n",
    "\n",
    "income_class = final.loc[final['entity'].isin(income_classes)]\n",
    "\n",
    "income_class['veg_protein_ratio'] = income_class['daily_cal_veg_protein']/ income_class['daily_cal_animal_protein']\n",
    "income_class['animal_protein_ratio']= income_class['daily_cal_animal_protein']/income_class['daily_cal_veg_protein']\n",
    "\n",
    "\n",
    "\n",
    "\n",
    "testdrop= final_countries\n",
    "\n",
    "df = testdrop.dropna()\n",
    "\n",
    "df['cals_from_protein'] = df['daily_cal_animal_protein'] + df['daily_cal_veg_protein']\n",
    "\n",
    "df['daily_caloric_intake'] = df.iloc[:,15:19].sum(axis=1)\n",
    "df['non_protein_cals']= df['daily_cal_fat'] + df['daily_cal_carbs'] \n",
    "income_class['daily_caloric_intake'] = income_class.iloc[:,15:19].sum(axis=1)\n",
    "\n",
    "\n",
    "df['veg_protein_ratio'] = df['daily_cal_veg_protein']/  df['daily_cal_animal_protein']\n",
    "df['animal_protein_ratio']= df['daily_cal_animal_protein']/df['daily_cal_veg_protein']\n",
    "\n"
   ]
  },
  {
   "cell_type": "code",
   "execution_count": null,
   "id": "e044a1cf-df01-4e1a-bce4-5d7f14888b8a",
   "metadata": {},
   "outputs": [],
   "source": [
    "income_class = income_class.loc[income_class['entity']!= 'world']\n"
   ]
  },
  {
   "cell_type": "code",
   "execution_count": null,
   "id": "2fdc6b26-068e-49aa-a8f3-3da0125d128f",
   "metadata": {},
   "outputs": [],
   "source": [
    "country_to_region = {\n",
    "    'algeria': 'Africa',\n",
    "    'angola': 'Africa',\n",
    "    'benin': 'Africa',\n",
    "    'botswana': 'Africa',\n",
    "    'burkina faso': 'Africa',\n",
    "    'burundi': 'Africa',\n",
    "    'cabo verde': 'Africa',\n",
    "    'cameroon': 'Africa',\n",
    "    'central african republic': 'Africa',\n",
    "    'chad': 'Africa',\n",
    "    'comoros': 'Africa',\n",
    "    'congo, democratic republic of the': 'Africa',\n",
    "    'congo, republic of the': 'Africa',\n",
    "    \"côte d'ivoire\": 'Africa',\n",
    "    'djibouti': 'Africa',\n",
    "    'egypt': 'Africa',\n",
    "    'equatorial guinea': 'Africa',\n",
    "    'eritrea': 'Africa',\n",
    "    'eswatini': 'Africa',\n",
    "    'ethiopia': 'Africa',\n",
    "    'gabon': 'Africa',\n",
    "    'gambia': 'Africa',\n",
    "    'ghana': 'Africa',\n",
    "    'guinea': 'Africa',\n",
    "    'guinea-bissau': 'Africa',\n",
    "    'kenya': 'Africa',\n",
    "    'lesotho': 'Africa',\n",
    "    'liberia': 'Africa',\n",
    "    'libya': 'Africa',\n",
    "    'madagascar': 'Africa',\n",
    "    'malawi': 'Africa',\n",
    "    'mali': 'Africa',\n",
    "    'mauritania': 'Africa',\n",
    "    'mauritius': 'Africa',\n",
    "    'morocco': 'Africa',\n",
    "    'mozambique': 'Africa',\n",
    "    'namibia': 'Africa',\n",
    "    'niger': 'Africa',\n",
    "    'nigeria': 'Africa',\n",
    "    'rwanda': 'Africa',\n",
    "    'sao tome and principe': 'Africa',\n",
    "    'senegal': 'Africa',\n",
    "    'seychelles': 'Africa',\n",
    "    'sierra leone': 'Africa',\n",
    "    'somalia': 'Africa',\n",
    "    'south africa': 'Africa',\n",
    "    'south sudan': 'Africa',\n",
    "    'sudan': 'Africa',\n",
    "    'tanzania': 'Africa',\n",
    "    'togo': 'Africa',\n",
    "    'tunisia': 'Africa',\n",
    "    'uganda': 'Africa',\n",
    "    'zambia': 'Africa',\n",
    "    'zimbabwe': 'Africa',\n",
    "    'afghanistan': 'Asia',\n",
    "    'armenia': 'Asia',\n",
    "    'azerbaijan': 'Asia',\n",
    "    'bahrain': 'Asia',\n",
    "    'bangladesh': 'Asia',\n",
    "    'bhutan': 'Asia',\n",
    "    'brunei': 'Asia',\n",
    "    'cambodia': 'Asia',\n",
    "    'china': 'Asia',\n",
    "    'cyprus': 'Asia', \n",
    "    'georgia': 'Asia',\n",
    "    'india': 'Asia',\n",
    "    'indonesia': 'Asia',\n",
    "    'iran': 'Asia',\n",
    "    'iraq': 'Asia',\n",
    "    'israel': 'Asia',\n",
    "    'japan': 'Asia',\n",
    "    'jordan': 'Asia',\n",
    "    'kazakhstan': 'Asia',\n",
    "    'kuwait': 'Asia',\n",
    "    'kyrgyzstan': 'Asia',\n",
    "    'laos': 'Asia',\n",
    "    'lebanon': 'Asia',\n",
    "    'malaysia': 'Asia',\n",
    "    'maldives': 'Asia',\n",
    "    'mongolia': 'Asia',\n",
    "    'myanmar': 'Asia',\n",
    "    'nepal': 'Asia',\n",
    "    'north korea': 'Asia',\n",
    "    'oman': 'Asia',\n",
    "    'pakistan': 'Asia',\n",
    "    'palestine': 'Asia',\n",
    "    'philippines': 'Asia',\n",
    "    'qatar': 'Asia',\n",
    "    'russia': 'Asia', # Mostly in Asia\n",
    "    'saudi arabia': 'Asia',\n",
    "    'singapore': 'Asia',\n",
    "    'south korea': 'Asia',\n",
    "    'sri lanka': 'Asia',\n",
    "    'syria': 'Asia',\n",
    "    'tajikistan': 'Asia',\n",
    "    'thailand': 'Asia',\n",
    "    'timor-leste': 'Asia',\n",
    "    'turkey': 'Asia', # Mostly in Asia\n",
    "    'turkmenistan': 'Asia',\n",
    "    'united arab emirates': 'Asia',\n",
    "    'uzbekistan': 'Asia',\n",
    "    'vietnam': 'Asia',\n",
    "    'yemen': 'Asia',\n",
    "    'macao':'Asia',\n",
    "    'albania': 'Europe',\n",
    "    'andorra': 'Europe',\n",
    "    'austria': 'Europe',\n",
    "    'belarus': 'Europe',\n",
    "    'belgium': 'Europe',\n",
    "    'bosnia and herzegovina': 'Europe',\n",
    "    'bulgaria': 'Europe',\n",
    "    'croatia': 'Europe',\n",
    "    'czech republic': 'Europe',\n",
    "    'denmark': 'Europe',\n",
    "    'estonia': 'Europe',\n",
    "    'finland': 'Europe',\n",
    "    'france': 'Europe',\n",
    "    'germany': 'Europe',\n",
    "    'greece': 'Europe',\n",
    "    'hungary': 'Europe',\n",
    "    'iceland': 'Europe',\n",
    "    'ireland': 'Europe',\n",
    "    'italy': 'Europe',\n",
    "    'kosovo': 'Europe',\n",
    "    'latvia': 'Europe',\n",
    "    'liechtenstein': 'Europe',\n",
    "    'lithuania': 'Europe',\n",
    "    'luxembourg': 'Europe',\n",
    "    'malta': 'Europe',\n",
    "    'moldova': 'Europe',\n",
    "    'monaco': 'Europe',\n",
    "    'montenegro': 'Europe',\n",
    "    'netherlands': 'Europe',\n",
    "    'north macedonia': 'Europe',\n",
    "    'norway': 'Europe',\n",
    "    'poland': 'Europe',\n",
    "    'portugal': 'Europe',\n",
    "    'romania': 'Europe',\n",
    "    'russia': 'Europe', \n",
    "    'san marino': 'Europe',\n",
    "    'serbia': 'Europe',\n",
    "    'slovakia': 'Europe',\n",
    "    'slovenia': 'Europe',\n",
    "    'spain': 'Europe',\n",
    "    'sweden': 'Europe',\n",
    "    'switzerland': 'Europe',\n",
    "    'ukraine': 'Europe',\n",
    "    'united kingdom': 'Europe',\n",
    "    'vatican city': 'Europe', \n",
    "    'antigua and barbuda': 'North America',\n",
    "    'bahamas': 'North America',\n",
    "    'barbados': 'North America',\n",
    "    'belize': 'North America',\n",
    "    'canada': 'North America',\n",
    "    'costa rica': 'North America',\n",
    "    'cuba': 'North America',\n",
    "    'dominica': 'North America',\n",
    "    'dominican republic': 'North America',\n",
    "    'el salvador': 'North America',\n",
    "    'grenada': 'North America',\n",
    "    'guatemala': 'North America',\n",
    "    'haiti': 'North America',\n",
    "    'honduras': 'North America',\n",
    "    'jamaica': 'North America',\n",
    "    'mexico': 'North America',\n",
    "    'nicaragua': 'North America',\n",
    "    'panama': 'North America',\n",
    "    'saint kitts and nevis': 'North America',\n",
    "    'saint lucia': 'North America',\n",
    "    'saint vincent and the grenadines': 'North America',\n",
    "    'trinidad and tobago': 'North America',\n",
    "    'united states': 'North America',\n",
    "    'australia': 'Oceania',\n",
    "    'fiji': 'Oceania',\n",
    "    'kiribati': 'Oceania',\n",
    "    'marshall islands': 'Oceania',\n",
    "    'micronesia': 'Oceania',\n",
    "    'nauru': 'Oceania',\n",
    "    'new zealand': 'Oceania',\n",
    "    'palau': 'Oceania',\n",
    "    'papua new guinea': 'Oceania',\n",
    "    'samoa': 'Oceania',\n",
    "    'solomon islands': 'Oceania',\n",
    "    'tonga': 'Oceania',\n",
    "    'tuvalu': 'Oceania',\n",
    "    'vanuatu': 'Oceania',\n",
    "    'argentina': 'South America',\n",
    "    'bolivia': 'South America',\n",
    "    'brazil': 'South America',\n",
    "    'chile': 'South America',\n",
    "    'colombia': 'South America',\n",
    "    'ecuador': 'South America',\n",
    "    'guyana': 'South America',\n",
    "    'paraguay': 'South America',\n",
    "    'peru': 'South America',\n",
    "    'suriname': 'South America',\n",
    "    'uruguay': 'South America',\n",
    "    'venezuela': 'South America',\n",
    "}\n",
    "\n",
    "df['region'] = df['entity'].map(country_to_region)\n",
    "\n",
    "df['entity'] = df['entity'].str.title()"
   ]
  },
  {
   "cell_type": "code",
   "execution_count": null,
   "id": "6349d135-acb1-478a-9be3-7624e2a52dbe",
   "metadata": {},
   "outputs": [],
   "source": [
    "df.info()"
   ]
  },
  {
   "cell_type": "markdown",
   "id": "2da32422-e156-4c89-8c99-980fcc1acc82",
   "metadata": {
    "jp-MarkdownHeadingCollapsed": true
   },
   "source": [
    "# correlation chart"
   ]
  },
  {
   "cell_type": "code",
   "execution_count": null,
   "id": "9b50c5b2-46d1-4e89-961e-f4124320b820",
   "metadata": {},
   "outputs": [],
   "source": [
    "cols_to_include = df.columns[11:15].tolist() + df.columns[15:16].tolist() + df.columns[24:26].tolist() \n",
    "\n",
    "# Calculate the correlation matrix\n",
    "corr = df[cols_to_include].corr()\n",
    "corr\n",
    "\n",
    "rs = np.random.RandomState(0)\n",
    "\n",
    "corr.style.background_gradient(cmap='copper_r')\n",
    "plt.figure(figsize=(5, 4))  # Adjust figure size as needed\n",
    "sns.heatmap(corr, annot=True, cmap='copper', fmt=\".2f\")\n",
    "plt.title('Correlation Matrix')\n",
    "\n"
   ]
  },
  {
   "cell_type": "markdown",
   "id": "8847b845-f568-4fdf-bc15-540a63b1d4b8",
   "metadata": {
    "jp-MarkdownHeadingCollapsed": true
   },
   "source": [
    "#  What is the correlation between the consumption of food types per capita and life expectancy across different countries, and how has this correlation changed over time? \n"
   ]
  },
  {
   "cell_type": "code",
   "execution_count": null,
   "id": "d7724a96-d517-49ef-a8d5-e2ebba628a4b",
   "metadata": {},
   "outputs": [],
   "source": [
    "df.life_exp.mean().round()"
   ]
  },
  {
   "cell_type": "code",
   "execution_count": null,
   "id": "7064e6bd-4bdc-4294-8165-cd7fbdbf5a61",
   "metadata": {},
   "outputs": [],
   "source": [
    "df.columns"
   ]
  },
  {
   "cell_type": "code",
   "execution_count": null,
   "id": "d0ba526d-396f-437b-b3a7-24db9651e161",
   "metadata": {},
   "outputs": [],
   "source": [
    "plt.figure(figsize=(10, 5))\n",
    "\n",
    "sns.set_style(\"whitegrid\", {\"grid.color\": \".6\", \"grid.linestyle\": \":\"})\n",
    "sns.scatterplot(\n",
    "    data=df, y=\"total_daily_protein\", x=\"life_exp\",\n",
    "     marker=(8,2,0),hue='region',palette='copper_r',s=80)\n",
    "\n",
    "plt.tight_layout()\n",
    "plt.xlabel(\"Total Daily Protein Consumption Per Capita\")\n",
    "plt.ylabel('Life Expectancy')\n",
    "plt.savefig('yolo.png',transparent=True)\n"
   ]
  },
  {
   "cell_type": "code",
   "execution_count": null,
   "id": "4c9e2788-7d53-4d10-9eac-a4eec8b71a65",
   "metadata": {},
   "outputs": [],
   "source": [
    "forplot = df.groupby(['region','year']).agg({'life_exp':'mean','total_daily_protein':'mean','gdp_per_capita':'mean'})\n",
    "forplot = forplot.reset_index()\n",
    "forplot"
   ]
  },
  {
   "cell_type": "code",
   "execution_count": null,
   "id": "266de006-e687-49fe-9d45-cafd76adfcc8",
   "metadata": {},
   "outputs": [],
   "source": [
    "df.life_exp.mean().round()\n",
    "print(f'The average life expectancy covered in this dataset is {df.life_exp.mean().round()} years old,')\n",
    "print(f'We can see from the scatterplot above that life expectancy of a country and total protein consumption per day has a strong positive correlation.')"
   ]
  },
  {
   "cell_type": "markdown",
   "id": "2696670e-77c9-427b-b5e7-ebac75a946d3",
   "metadata": {
    "jp-MarkdownHeadingCollapsed": true
   },
   "source": [
    "# Do countries with a higher ratio vegetables protein consumption compared to animal protein exhibit higher life expectancies, and how does this relationship vary across different regions?"
   ]
  },
  {
   "cell_type": "code",
   "execution_count": null,
   "id": "cf63addc-ab8f-4cf7-8fb7-2a7baf37fe59",
   "metadata": {},
   "outputs": [],
   "source": [
    "# splitting the df to show two styles of diets \n",
    "more_meat = df.loc[df['animal_protein_ratio'] > df['veg_protein_ratio']]\n",
    "\n",
    "more_veg = df.loc[df['veg_protein_ratio'] > df['animal_protein_ratio']]"
   ]
  },
  {
   "cell_type": "code",
   "execution_count": null,
   "id": "46d28c21-f740-4150-8bfc-6a2006b8bf50",
   "metadata": {},
   "outputs": [],
   "source": [
    "plt.figure(figsize=(13, 6))\n",
    "\n",
    "sns.set_style(\"whitegrid\")\n",
    "plt.subplot(1, 2, 1)\n",
    "sns.scatterplot(x= df['veg_protein_ratio'],y=df['life_exp'],hue=df['region'],palette='copper_r')\n",
    "plt.xlabel('Vegetable Protein Consumption')\n",
    "plt.legend(loc=\"lower right\")\n",
    "plt.ylabel('Life Expectancy')\n",
    "plt.subplot(1, 2, 2)\n",
    "sns.scatterplot(x= df['animal_protein_ratio'],y=df['life_exp'],hue=df['region'],palette='copper_r')\n",
    "plt.xlabel('Animal Protein Consumption')\n",
    "plt.ylabel('Life Expectancy')\n",
    "plt.legend(loc=\"best\")\n",
    "plt.savefig('FINALmeatveg.png', transparent=True)"
   ]
  },
  {
   "cell_type": "code",
   "execution_count": null,
   "id": "62d2ea26-2c50-41e3-84e8-98164fcaf4eb",
   "metadata": {},
   "outputs": [],
   "source": [
    "# seems animal protein is an indicator of a more steady incline of life exp but there are still low outliers and what could be causing that?\n"
   ]
  },
  {
   "cell_type": "markdown",
   "id": "6c649abf-034c-4d10-b4f7-0ce4dd213424",
   "metadata": {
    "jp-MarkdownHeadingCollapsed": true
   },
   "source": [
    "# Does this correlation differ between high-income and low-income countries?"
   ]
  },
  {
   "cell_type": "code",
   "execution_count": null,
   "id": "2c6ce2e1-06fd-4ab7-b08e-ae50be64bb98",
   "metadata": {},
   "outputs": [],
   "source": [
    "from importlib import reload\n",
    "plt=reload(plt)"
   ]
  },
  {
   "cell_type": "code",
   "execution_count": null,
   "id": "6c5be6a4-8b16-476d-a068-0a5593004824",
   "metadata": {},
   "outputs": [],
   "source": [
    "income_class.columns"
   ]
  },
  {
   "cell_type": "code",
   "execution_count": null,
   "id": "ca6162cb-9190-45d8-9ef6-8bb12ae095ff",
   "metadata": {},
   "outputs": [],
   "source": [
    "plt.figure(figsize=(13, 5))\n",
    "\n",
    "plt.subplot(1, 2, 1)\n",
    "sns.scatterplot(\n",
    "                income_class.sort_values(by='gdp_per_capita',ascending=False),\n",
    "                x='daily_cal_animal_protein',\n",
    "                y='life_exp',hue='entity',\n",
    "                palette='copper_r',marker=\"o\",s=150,alpha=.5,legend=False)\n",
    "plt.xlabel('Animal Protein Consumption in Calories Per Capita')\n",
    "plt.ylabel('Life Expectancy')\n",
    "\n",
    "plt.subplot(1, 2, 2)\n",
    "sns.scatterplot(\n",
    "                income_class.sort_values(by='gdp_per_capita',ascending=False),\n",
    "                y='life_exp',\n",
    "                x='daily_cal_veg_protein',hue='entity',\n",
    "                palette='copper_r',marker=\"o\",s=150,alpha=.5)\n",
    "plt.xlabel('Vegetable Protein Consumption in Calories Per Capita')\n",
    "plt.ylabel('Life Expectancy')\n",
    "\n",
    "\n",
    "plt.legend(loc='best')\n",
    "plt.ylabel=('')\n",
    "plt.savefig('incomecountries.png', transparent=True)\n",
    ";"
   ]
  },
  {
   "cell_type": "markdown",
   "id": "b6841ce2-d0a4-49db-9bba-f77ecb413131",
   "metadata": {},
   "source": [
    "High-Income Countries:\n",
    "Access and Affordability: In these countries, access to a diverse range of foods is generally higher due to well-developed food systems and greater affordability. However, lifestyle choices and the prevalence of processed foods can still lead to less-than-optimal diets.\n",
    "\n",
    "Concerns: The focus in high-income countries is often shifting towards the quality of food and the overconsumption of certain food groups (like processed foods, red meats, sugary drinks), which can contribute to chronic diseases and negatively impact life expectancy.\n",
    "\n",
    "Low-Income Countries:\n",
    "Limited Access: Food insecurity and limited access to diverse foods remain major challenges. Diets might be heavily reliant on staple foods, leading to deficiencies in essential nutrients.   \n",
    "Economic Factors: Economic constraints often dictate food choices, making it difficult for people to prioritize dietary diversity.   \n",
    "Infectious Diseases: While nutrition plays a crucial role, life expectancy in lbow-income countries is also significantly affected by infectious diseases, access to healthcare, and other socioeconomic factors."
   ]
  },
  {
   "cell_type": "code",
   "execution_count": null,
   "id": "4aeb2093-9a44-4a16-af70-a3f82bb262bd",
   "metadata": {},
   "outputs": [],
   "source": [
    "plt.figure(figsize=(13, 5))\n",
    "\n",
    "plt.subplot(1, 2, 1)\n",
    "sns.scatterplot(\n",
    "                income_class.sort_values(by='gdp_per_capita',ascending=False),\n",
    "                x='gdp_per_capita',\n",
    "                y='life_exp',hue='entity',\n",
    "                palette='copper_r',marker=\"o\",s=150,alpha=.5,legend=False)\n",
    "plt.xlabel('GDP Per Capita')\n",
    "plt.ylabel('Life Expectancy')\n",
    "\n",
    "plt.subplot(1, 2, 2)\n",
    "sns.scatterplot(\n",
    "                income_class.sort_values(by='gdp_per_capita',ascending=False),\n",
    "                y='life_exp',\n",
    "                x='total_daily_protein',hue='entity',\n",
    "                palette='copper_r',marker=\"o\",s=150,alpha=.5)\n",
    "plt.xlabel('Total Daily Protein Intake')\n",
    "plt.ylabel('Life Expectancy')\n",
    "\n",
    "\n",
    "plt.legend(loc='best')\n",
    "plt.ylabel=('')\n",
    "plt.savefig('GDP prooo.png', transparent=True)\n",
    ";"
   ]
  },
  {
   "cell_type": "markdown",
   "id": "cb696bcd-c876-482e-82e3-8c28617ca591",
   "metadata": {
    "jp-MarkdownHeadingCollapsed": true
   },
   "source": [
    "# What is the diet of countries with above average life expectancy and below average gdp? "
   ]
  },
  {
   "cell_type": "code",
   "execution_count": null,
   "id": "c509f447-7eda-41be-92cf-b07aa38836f7",
   "metadata": {},
   "outputs": [],
   "source": [
    "low_gdp_high_life =df.loc[(df['gdp_per_capita']< df['gdp_per_capita'].mean()) & (df['life_exp'] > df['life_exp'].mean())]"
   ]
  },
  {
   "cell_type": "code",
   "execution_count": null,
   "id": "0500cd0f-f5c2-49bf-a4a5-2448b9ffdcf9",
   "metadata": {},
   "outputs": [],
   "source": [
    "low_gdp_high_life_grouped = low_gdp_high_life.groupby('entity').agg({col: 'mean' for col in low_gdp_high_life.columns[3:14]})"
   ]
  },
  {
   "cell_type": "code",
   "execution_count": null,
   "id": "50720604-206d-4208-8f5b-5770325e0eca",
   "metadata": {},
   "outputs": [],
   "source": [
    "low_gdp_high_life_grouped\n",
    "\n"
   ]
  },
  {
   "cell_type": "markdown",
   "id": "0b0a00e3-0091-4852-b227-52a40e3400d7",
   "metadata": {
    "jp-MarkdownHeadingCollapsed": true
   },
   "source": [
    "# What is the diet of countries with above average gdp and below average life_exp? "
   ]
  },
  {
   "cell_type": "code",
   "execution_count": null,
   "id": "d6d07538-7acf-4a69-a710-044f3c966be4",
   "metadata": {},
   "outputs": [],
   "source": [
    "df.gdp_per_capita.mean()\n",
    "print(f' The average GDP Per Capita is {df.gdp_per_capita.mean().round()}')"
   ]
  },
  {
   "cell_type": "code",
   "execution_count": null,
   "id": "41708077-b4d3-4e15-91d9-3b406fad42e2",
   "metadata": {},
   "outputs": [],
   "source": [
    "low_life_high_gdp=df.loc[(df['gdp_per_capita']>= df['gdp_per_capita'].mean()) & (df['life_exp'] < df['life_exp'].mean())]"
   ]
  },
  {
   "cell_type": "code",
   "execution_count": null,
   "id": "da358d4d-2a8f-4397-82d0-4ab1403c140c",
   "metadata": {},
   "outputs": [],
   "source": [
    "low_life_high_gdp_grouped =low_life_high_gdp.groupby('entity').agg({col: 'mean' for col in low_gdp_high_life.columns[3:14]})"
   ]
  },
  {
   "cell_type": "code",
   "execution_count": null,
   "id": "c86db35c-68b0-4e24-b939-6c65339dc206",
   "metadata": {},
   "outputs": [],
   "source": [
    "low_life_high_gdp_grouped"
   ]
  },
  {
   "cell_type": "markdown",
   "id": "29fa2646-f409-471c-92b4-f135be20ef36",
   "metadata": {
    "jp-MarkdownHeadingCollapsed": true
   },
   "source": [
    "# Who's life expectancy above average and what do they eat?"
   ]
  },
  {
   "cell_type": "code",
   "execution_count": null,
   "id": "73890081-cf00-471a-9049-bb974ee0e2a1",
   "metadata": {},
   "outputs": [],
   "source": [
    "longest_living=df.loc[df['life_exp']>= 80]\n",
    "longest_life = longest_living.groupby('entity').agg({'life_exp':'mean'}).sort_values(by='life_exp')\n",
    "longest_life = longest_life.reset_index()\n",
    "\n",
    "long_life_list = longest_life.entity.tolist() \n",
    "\n",
    "longest_life_countries = df.loc[df['entity'].isin(long_life_list)]\n",
    "longlife_grouped = longest_life_countries.groupby('entity').agg({'fish':'mean',\n",
    "                                                                 'poultry':'mean',\n",
    "                                                                 'pork':'mean',\n",
    "                                                                 'beef':'mean',\n",
    "                                                                 'sheep/goat':'mean',\n",
    "                                                                 'eggs':'mean',\n",
    "                                                                 'milk':'mean',\n",
    "                                                                 'daily_cal_animal_protein':'mean',\n",
    "                                                                 'daily_cal_veg_protein':'mean',\n",
    "                                                                 'life_exp':'max',\n",
    "                                                                 'gdp_per_capita':'mean'})\n",
    "\n",
    "\n",
    "longlife_grouped"
   ]
  },
  {
   "cell_type": "markdown",
   "id": "4f40495b-ef83-4662-86c9-8556259a4d4f",
   "metadata": {
    "jp-MarkdownHeadingCollapsed": true
   },
   "source": [
    "# Searching for outliers "
   ]
  },
  {
   "cell_type": "code",
   "execution_count": null,
   "id": "33f91a6f-9e71-47d4-b624-d11f2dafe55e",
   "metadata": {},
   "outputs": [],
   "source": [
    "# here we see high outliers who's protein consumption from vegetables is more than animal protein."
   ]
  },
  {
   "cell_type": "code",
   "execution_count": null,
   "id": "8cab47e2-b34a-4418-a40a-24939a755a43",
   "metadata": {},
   "outputs": [],
   "source": [
    "sns.boxplot(more_veg[['total_daily_protein','life_exp']],color='tan')\n",
    "\n",
    ";"
   ]
  },
  {
   "cell_type": "code",
   "execution_count": null,
   "id": "1eac83e0-8517-49cc-b227-b28d5d41cb97",
   "metadata": {},
   "outputs": [],
   "source": [
    "Q1 = more_veg['life_exp'].quantile(0.25)\n",
    "Q3 = more_veg['life_exp'].quantile(0.75)\n",
    "IQR = Q3 - Q1\n",
    "\n",
    "lower_bound = Q1 - 1.5 * IQR\n",
    "upper_bound = Q3 + 1.5 * IQR \n",
    "\n",
    "veg_bound  = more_veg[more_veg['life_exp'] < lower_bound]\n",
    "veg_bound  =veg_bound.groupby(['entity','year']).agg({'gdp_per_capita':'mean','life_exp':'max','total_daily_protein':'max'}).sort_values(by='life_exp')"
   ]
  },
  {
   "cell_type": "code",
   "execution_count": null,
   "id": "c5d3f28e-3ab4-4bc8-ad08-cc7a7d00c8b1",
   "metadata": {},
   "outputs": [],
   "source": [
    "veg_bound = veg_bound.reset_index()\n",
    "veg_bound"
   ]
  },
  {
   "cell_type": "markdown",
   "id": "52bad2b6-2763-4b99-b1ae-7a594b83bc3f",
   "metadata": {},
   "source": [
    "##### In 1994, Rwanda experienced a devastating genocide that had catastrophic consequences for the population, including a drastic drop in life expectancy. Over the course of approximately 100 days, from April to July 1994, an estimated 800,000 people, primarily from the Tutsi ethnic group, were killed by extremist Hutu militias. The violence was widespread and systematic, targeting men, women, and children.\n",
    "\n",
    "This horrific event significantly impacted Rwanda's demographics and health indicators. The mass killings, combined with disease, displacement, and the destruction of infrastructure, led to a sharp decline in life expectancy, with some estimates showing it falling to as low as 14 years. This figure reflects the enormous loss of life, particularly among adults, and the fact that the remaining population was disproportionately young due to the high number of deaths. The genocide's aftermath left long-term effects on the country's health, economy, and social structure."
   ]
  },
  {
   "cell_type": "code",
   "execution_count": null,
   "id": "a4f4f0f9-475a-4bde-83a8-565a19b26e04",
   "metadata": {},
   "outputs": [],
   "source": [
    "sns.boxplot(more_meat['life_exp'],color='tan');\n",
    ";"
   ]
  },
  {
   "cell_type": "code",
   "execution_count": null,
   "id": "ecbbe812-f694-4bb6-b2bd-2edc5f832196",
   "metadata": {},
   "outputs": [],
   "source": [
    "lQ1 = more_meat['life_exp'].quantile(0.25)\n",
    "lQ3 = more_meat['life_exp'].quantile(0.75)\n",
    "lIQR = lQ3 - lQ1\n",
    "\n",
    "llower_bound = lQ1 - 1.5 * lIQR\n",
    "lupper_bound = lQ3 + 1.5 * lIQR \n",
    "\n",
    "low_meat_outliers  = more_meat[more_meat['life_exp'] < llower_bound]"
   ]
  },
  {
   "cell_type": "code",
   "execution_count": null,
   "id": "1ca04f7e-714a-4293-a4bf-7b3f418e8156",
   "metadata": {},
   "outputs": [],
   "source": [
    "lowmeat= low_meat_outliers.groupby(['entity','region','year']).agg({'gdp_per_capita':'mean','life_exp':'mean','total_daily_protein':'mean'}).sort_values(by='total_daily_protein')\n",
    "lowmeat = lowmeat.reset_index()\n",
    "lowmeat.entity = lowmeat.entity.str.title()\n",
    "lowmeat"
   ]
  },
  {
   "cell_type": "code",
   "execution_count": null,
   "id": "176ddb49-447b-460a-8c0d-7623c825c9f4",
   "metadata": {},
   "outputs": [],
   "source": [
    "sns.boxplot(df.life_exp)\n"
   ]
  },
  {
   "cell_type": "code",
   "execution_count": null,
   "id": "c67072a6-5e3e-46a1-afb3-6713079a128a",
   "metadata": {},
   "outputs": [],
   "source": [
    "sns.boxplot(df.life_exp)\n",
    "\n",
    "rQ1 = df['life_exp'].quantile(0.25)\n",
    "rQ3 = df['life_exp'].quantile(0.75)\n",
    "rIQR = rQ3 - rQ1\n",
    "\n",
    "rlower_bound = rQ1 - 1.5 * rIQR\n",
    "rupper_bound = rQ3 + 1.5 * rIQR \n",
    "\n",
    "low_life  = df[df['life_exp'] < rlower_bound]\n",
    "low_life.groupby(['year','region']).agg({'gdp_per_capita':'mean','life_exp':'mean','total_daily_protein':'mean',}).sort_values(by='year')"
   ]
  },
  {
   "cell_type": "code",
   "execution_count": null,
   "id": "538837af-5cfd-4c64-9f5e-4666deb00a05",
   "metadata": {},
   "outputs": [],
   "source": [
    "plt.figure(figsize=(12, 6))\n",
    "plt.subplot(1, 2, 1)\n",
    "sns.scatterplot(y='gdp_per_capita', x='life_exp', data=df,hue='region',palette='binary_r')\n",
    "plt.title('Life Expectancy vs. GDP per Capita')\n",
    "plt.subplot(1, 2, 2)\n",
    "sns.scatterplot(y='total_daily_protein', x='life_exp', data=df,hue='region',palette='binary_r')\n",
    "plt.title('Life Expectancy vs. Protein Consumption')\n",
    "plt.tight_layout()\n",
    "\n",
    "plt.show()\n"
   ]
  },
  {
   "cell_type": "code",
   "execution_count": null,
   "id": "59de5695-b6a0-4825-aa9f-16c9140a45c5",
   "metadata": {},
   "outputs": [],
   "source": [
    "# for tableau to show the diets of these countries and a map."
   ]
  }
 ],
 "metadata": {
  "kernelspec": {
   "display_name": "Python 3 (ipykernel)",
   "language": "python",
   "name": "python3"
  },
  "language_info": {
   "codemirror_mode": {
    "name": "ipython",
    "version": 3
   },
   "file_extension": ".py",
   "mimetype": "text/x-python",
   "name": "python",
   "nbconvert_exporter": "python",
   "pygments_lexer": "ipython3",
   "version": "3.12.4"
  }
 },
 "nbformat": 4,
 "nbformat_minor": 5
}
